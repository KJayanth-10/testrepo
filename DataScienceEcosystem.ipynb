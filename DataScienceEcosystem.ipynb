{
 "cells": [
  {
   "cell_type": "markdown",
   "id": "4b7c3534",
   "metadata": {},
   "source": [
    "# Data Science Tools and Ecosystem"
   ]
  },
  {
   "cell_type": "markdown",
   "id": "276498df",
   "metadata": {},
   "source": [
    "In this notebook , Data Science Tools and Ecosystem are Summarized"
   ]
  },
  {
   "cell_type": "markdown",
   "id": "d4f04482",
   "metadata": {},
   "source": [
    "**Objectives :**\n",
    "- list popular languages in data science\n",
    "- list popular libraries in data science\n",
    "- list popular environments in data science\n",
    "- perform some arthimetic operations\n",
    " "
   ]
  },
  {
   "cell_type": "markdown",
   "id": "ef3db1f9",
   "metadata": {},
   "source": [
    "Some of the popular languages that Data Scienctists use are:\n",
    "1. Python\n",
    "2. R\n",
    "3. Julia"
   ]
  },
  {
   "cell_type": "markdown",
   "id": "731f672a",
   "metadata": {},
   "source": [
    "Some of the commonly used libraries used by Data Scienctists inclide:\n",
    "1. Pandas\n",
    "2. Numpy\n",
    "3. Matplotlib\n",
    "4. scikit-learn"
   ]
  },
  {
   "cell_type": "markdown",
   "id": "6c3ad05b",
   "metadata": {},
   "source": [
    "| Data Science Tools |\n",
    "| ------------------ |\n",
    "| Jupyter Notebooks |\n",
    "| Zeppelin Noteboks |\n",
    "| R Studio |"
   ]
  },
  {
   "cell_type": "markdown",
   "id": "4c610fd1",
   "metadata": {},
   "source": [
    "### Below are a few examples of evaluating arithmetic expressions in Python.\n"
   ]
  },
  {
   "cell_type": "code",
   "execution_count": 1,
   "id": "adc78a6c",
   "metadata": {},
   "outputs": [
    {
     "name": "stdout",
     "output_type": "stream",
     "text": [
      "17\n"
     ]
    }
   ],
   "source": [
    "# This a simple arithmetic expression to mutiply then add integers.\n",
    "print((3*4)+5)"
   ]
  },
  {
   "cell_type": "code",
   "execution_count": 2,
   "id": "56ab439e",
   "metadata": {},
   "outputs": [
    {
     "name": "stdout",
     "output_type": "stream",
     "text": [
      "3.3333333333333335\n"
     ]
    }
   ],
   "source": [
    "#This will convert 200 minutes to hours by diving by 60.\n",
    "k=200/60\n",
    "print(k)"
   ]
  },
  {
   "cell_type": "markdown",
   "id": "1876dff6",
   "metadata": {},
   "source": [
    "## Author\n",
    "Korukonda Jayanth Kumar"
   ]
  },
  {
   "cell_type": "code",
   "execution_count": null,
   "id": "a4b1c5c6",
   "metadata": {},
   "outputs": [],
   "source": []
  }
 ],
 "metadata": {
  "kernelspec": {
   "display_name": "Python 3 (ipykernel)",
   "language": "python",
   "name": "python3"
  },
  "language_info": {
   "codemirror_mode": {
    "name": "ipython",
    "version": 3
   },
   "file_extension": ".py",
   "mimetype": "text/x-python",
   "name": "python",
   "nbconvert_exporter": "python",
   "pygments_lexer": "ipython3",
   "version": "3.11.5"
  }
 },
 "nbformat": 4,
 "nbformat_minor": 5
}
